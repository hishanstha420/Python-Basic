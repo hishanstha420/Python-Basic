{
 "cells": [
  {
   "cell_type": "code",
   "execution_count": null,
   "metadata": {},
   "outputs": [],
   "source": [
    "storyformat='''Once upon a time in an ancient jungle there lived a {animal}.\n",
    "This {animal} liked to eat {food}, but the jungle had very little {food} to offer.\n",
    "One day, an explorer found the {animal} and discovered it liked {food}. \n",
    "The explorer brought the {animal} back to the {city} where it could eat as it wanted.\n",
    "However, the {animal} became Homesick, so the explorer brought it back to the jungle, \n",
    "leaving the large supply of {food}'''\n",
    "def tellstory():\n",
    "    userpicks=dict()\n",
    "    addpick('animal',userpicks)\n",
    "    addpick('food',userpicks)\n",
    "    addpick('city',userpicks)\n",
    "    story=storyformat.format(**userpicks)\n",
    "    print(story)\n",
    "\n",
    "def addpick(cue, dictionary):\n",
    "    prompt='Enter an example for ' + cue + ': '\n",
    "    response=input(prompt)\n",
    "    dictionary[cue]=response\n",
    "tellstory()\n",
    "input('Press Enter to end the program')"
   ]
  },
  {
   "cell_type": "code",
   "execution_count": null,
   "metadata": {},
   "outputs": [],
   "source": []
  }
 ],
 "metadata": {
  "kernelspec": {
   "display_name": "Python 3",
   "language": "python",
   "name": "python3"
  },
  "language_info": {
   "codemirror_mode": {
    "name": "ipython",
    "version": 3
   },
   "file_extension": ".py",
   "mimetype": "text/x-python",
   "name": "python",
   "nbconvert_exporter": "python",
   "pygments_lexer": "ipython3",
   "version": "3.7.6"
  }
 },
 "nbformat": 4,
 "nbformat_minor": 4
}
