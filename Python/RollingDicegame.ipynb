{
 "cells": [
  {
   "cell_type": "markdown",
   "metadata": {},
   "source": [
    "Rolling dice game"
   ]
  },
  {
   "cell_type": "code",
   "execution_count": 2,
   "metadata": {},
   "outputs": [
    {
     "name": "stdout",
     "output_type": "stream",
     "text": [
      "Rolling dice...... \n",
      "The face of dice landed on...\n",
      "4\n",
      "6\n",
      "Do you wanna roll again y/n?\n",
      "n\n",
      "thanks for playing the game\n"
     ]
    }
   ],
   "source": [
    "import random\n",
    "\n",
    "min=1\n",
    "max=6\n",
    "roll_again='yes'\n",
    "\n",
    "while roll_again=='yes' or roll_again=='y':\n",
    "    print('Rolling dice...... ')\n",
    "    print('The face of dice landed on...')\n",
    "    print(random.randint(min,max))\n",
    "    print(random.randint(min,max))\n",
    "    print('Do you wanna roll again y/n?')\n",
    "    roll_again=input()\n",
    "else:\n",
    "    print(\"thanks for playing the game\")\n",
    "    "
   ]
  },
  {
   "cell_type": "code",
   "execution_count": null,
   "metadata": {},
   "outputs": [],
   "source": []
  }
 ],
 "metadata": {
  "kernelspec": {
   "display_name": "Python 3",
   "language": "python",
   "name": "python3"
  },
  "language_info": {
   "codemirror_mode": {
    "name": "ipython",
    "version": 3
   },
   "file_extension": ".py",
   "mimetype": "text/x-python",
   "name": "python",
   "nbconvert_exporter": "python",
   "pygments_lexer": "ipython3",
   "version": "3.7.6"
  }
 },
 "nbformat": 4,
 "nbformat_minor": 4
}
