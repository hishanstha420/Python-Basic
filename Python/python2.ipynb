{
 "cells": [
  {
   "cell_type": "markdown",
   "metadata": {},
   "source": [
    "# Dictionaries"
   ]
  },
  {
   "cell_type": "code",
   "execution_count": null,
   "metadata": {},
   "outputs": [],
   "source": [
    "#alien.py\n",
    "alien_0={'color':'green','points':5}\n",
    "print(alien_0['color'])\n",
    "print(alien_0['points'])"
   ]
  },
  {
   "cell_type": "code",
   "execution_count": null,
   "metadata": {},
   "outputs": [],
   "source": [
    "#print('You just earned '+str(alien_0['points'])+' points.')\n",
    "new_points=alien_0['points']\n",
    "print('You just earned '+str(new_points)+' points.')"
   ]
  },
  {
   "cell_type": "code",
   "execution_count": null,
   "metadata": {},
   "outputs": [],
   "source": [
    "print(alien_0)"
   ]
  },
  {
   "cell_type": "code",
   "execution_count": null,
   "metadata": {},
   "outputs": [],
   "source": [
    "#adding new key value pair\n",
    "alien_0['x_coordinate']=45\n",
    "alien_0['y_coordinate']=90\n",
    "print(alien_0)"
   ]
  },
  {
   "cell_type": "code",
   "execution_count": null,
   "metadata": {},
   "outputs": [],
   "source": [
    "#starting with empty dictionary\n",
    "alien_0={}\n",
    "alien_0['color']='green'\n",
    "alien_0['points']=5\n",
    "print(alien_0)\n",
    "print(alien_0['color'])\n",
    "print(alien_0['points'])"
   ]
  },
  {
   "cell_type": "code",
   "execution_count": null,
   "metadata": {},
   "outputs": [],
   "source": [
    "alien_0={'color':'green'}\n",
    "print('The color of alien is '+alien_0['color']+'.')\n",
    "alien_0['color']='yellow'\n",
    "print('The color of alien is now '+alien_0['color']+'.')"
   ]
  },
  {
   "cell_type": "code",
   "execution_count": null,
   "metadata": {},
   "outputs": [],
   "source": [
    "alien_0={'x_position':0,'y_position':25,'speed':'medium'}\n",
    "print('Original x_position '+str(alien_0['x_position'])+'.')\n",
    "\n",
    "#move alien to the right.\n",
    "#Determine how far to move the alien based on its current speed\n",
    "if alien_0['speed']=='slow':\n",
    "    x_increment=1\n",
    "elif alien_0['speed']=='medium':\n",
    "    x_increment=2\n",
    "else:\n",
    "    #fast  alien\n",
    "    x_increment=3\n",
    "# The new position is the old position plus the increment.\n",
    "alien_0['x_position']+=x_increment\n",
    "\n",
    "print('New x_position  is '+str(alien_0['x_position']))"
   ]
  },
  {
   "cell_type": "code",
   "execution_count": null,
   "metadata": {},
   "outputs": [],
   "source": [
    "#deleting from dictionary\n",
    "alien_0={'color':'green','points':5}\n",
    "print(alien_0)\n",
    "\n",
    "del alien_0['points']#deleted key value pair is deleted permanently\n",
    "print(alien_0)"
   ]
  },
  {
   "cell_type": "code",
   "execution_count": null,
   "metadata": {},
   "outputs": [],
   "source": [
    "#favorite_language.py\n",
    "favorite_language={\n",
    "    'hishan':'japanese',\n",
    "    'aayush':'english',\n",
    "    'martin':'spanish',\n",
    "    'justin':'french',\n",
    "    'Rajesh':'hindi'\n",
    "}\n",
    "print(favorite_language)\n",
    "print('\\n The favorite language of justin is '+favorite_language['justin'].title()+'.')"
   ]
  },
  {
   "cell_type": "code",
   "execution_count": null,
   "metadata": {},
   "outputs": [],
   "source": [
    "#6.1 person\n",
    "person={'first_name':'aakirti','last_name':'paudyal','age':21,'city':'lalitpur'}\n",
    "print(person['first_name'].title())\n",
    "print(person['last_name'].title())\n",
    "print(person['age'])\n",
    "print(person['city'].title())"
   ]
  },
  {
   "cell_type": "code",
   "execution_count": null,
   "metadata": {},
   "outputs": [],
   "source": [
    "#6.2 favorite numbers\n",
    "favorite_number={'aisha':9,'aman':10,'martin':69,'lucifer':420,'hella':3}\n",
    "print('Favorite number of every one')\n",
    "# for name,number in favorite_number.items():\n",
    "#     print(name+':'+str(number))\n",
    "print('Aisha: '+str(favorite_number['aisha']))\n",
    "print('Aman: '+str(favorite_number['aman']))\n",
    "print('Martin: '+str(favorite_number['martin']))\n",
    "print('Lucifer: '+str(favorite_number['lucifer']))\n",
    "print('Hella: '+str(favorite_number['hella']))"
   ]
  },
  {
   "cell_type": "code",
   "execution_count": null,
   "metadata": {},
   "outputs": [],
   "source": [
    "#6.3 Glossary\n",
    "words={'concatenation':'used for joining',\n",
    "       'upper()':'to change to uppercase',\n",
    "       'lower()':'to change to lowercase',\n",
    "       'title()':'to change first alphabet to uppercase ',\n",
    "       'dictionaries':'to store key value pair'\n",
    "      }\n",
    "print('concatenation:\\n\\t'+words['concatenation'])\n",
    "print('upper():\\n\\t'+words['upper()'])\n",
    "print('lower():\\n\\t'+words['lower()'])\n",
    "print('title():\\n\\t'+words['title()'])\n",
    "print('Dictionaries:\\n\\t'+words['dictionaries'])"
   ]
  },
  {
   "cell_type": "markdown",
   "metadata": {},
   "source": [
    "## looping through a dictionary"
   ]
  },
  {
   "cell_type": "code",
   "execution_count": null,
   "metadata": {},
   "outputs": [],
   "source": [
    "user_0={\n",
    "    'username': 'efermi',\n",
    "    'first': 'enrico',\n",
    "    'last': 'fermi',   \n",
    "}\n",
    "\n",
    "for key, value in user_0.items():\n",
    "    print('\\nkey:'+key)\n",
    "    print('value:'+value)"
   ]
  },
  {
   "cell_type": "code",
   "execution_count": null,
   "metadata": {},
   "outputs": [],
   "source": [
    "#favorite_language.py\n",
    "favorite_language={\n",
    "    'hishan':'japanese',\n",
    "    'aayush':'english',\n",
    "    'martin':'spanish',\n",
    "    'justin':'french',\n",
    "    'Rajesh':'hindi'\n",
    "}\n",
    "for name,language in favorite_language.items():\n",
    "    print(name.title()+'\\'s favorite language is '+language.title()+'.')"
   ]
  },
  {
   "cell_type": "code",
   "execution_count": null,
   "metadata": {},
   "outputs": [],
   "source": [
    "#looping through keys only\n",
    "for name in favorite_language:\n",
    "    print(name.title())\n",
    "#or\n",
    "print('\\n')\n",
    "for name in favorite_language.keys():\n",
    "    print(name.title())"
   ]
  },
  {
   "cell_type": "code",
   "execution_count": null,
   "metadata": {},
   "outputs": [],
   "source": [
    "favorite_language={\n",
    "    'hishan':'japanese',\n",
    "    'aayush':'english',\n",
    "    'martin':'spanish',\n",
    "    'justin':'french',\n",
    "    'rajesh':'hindi'\n",
    "}\n",
    "friends=['aayush','rajesh']\n",
    "for name in favorite_language.keys():\n",
    "    print(name.title())\n",
    "    \n",
    "    if name in friends:\n",
    "        print('Hi '+name.title()+', I see your favoriter language is '+favorite_language[name].title()+'.')\n",
    "        \n",
    "if 'eric' not in favorite_language.keys():\n",
    "    print('\\nEric, please take the poll.')"
   ]
  },
  {
   "cell_type": "code",
   "execution_count": null,
   "metadata": {},
   "outputs": [],
   "source": [
    "#looping through a dictionary's keys in order\n",
    "favorite_language={\n",
    "    'hishan':'japanese',\n",
    "    'aayush':'english',\n",
    "    'martin':'spanish',\n",
    "    'justin':'french',\n",
    "    'rajesh':'hindi'\n",
    "}\n",
    "for name in sorted(favorite_language.keys()):\n",
    "    print(name.title()+', Thank you for taking our poll!!')"
   ]
  },
  {
   "cell_type": "code",
   "execution_count": null,
   "metadata": {},
   "outputs": [],
   "source": [
    "#looping through values of dictionary\n",
    "print('The following languages has been mentioned:')\n",
    "for language in favorite_language.values():\n",
    "    print(language.title())"
   ]
  },
  {
   "cell_type": "code",
   "execution_count": null,
   "metadata": {},
   "outputs": [],
   "source": [
    "favorite_language={\n",
    "    'hishan':'japanese',\n",
    "    'aayush':'english',\n",
    "    'martin':'spanish',\n",
    "    'justin':'japanese',\n",
    "    'rajesh':'english'\n",
    "}\n",
    "for language in set(favorite_language.values()):#set discards repeated value and puts 1\n",
    "    print(language.title())"
   ]
  },
  {
   "cell_type": "code",
   "execution_count": null,
   "metadata": {},
   "outputs": [],
   "source": [
    "#6.4 Glossary 2\n",
    "words={'concatenation':'used for joining',\n",
    "       'upper()':'to change to uppercase',\n",
    "       'lower()':'to change to lowercase',\n",
    "       'title()':'to change first alphabet to uppercase ',\n",
    "       'dictionaries':'to store key value pair',\n",
    "       'tuple':'tuple looks just like a list except you use parentheses instead of square brackets'\n",
    "      }\n",
    "for keys, values in words.items():\n",
    "    print(keys+':\\n\\t'+values)\n"
   ]
  },
  {
   "cell_type": "code",
   "execution_count": null,
   "metadata": {},
   "outputs": [],
   "source": [
    "#6.5 Rivers\n",
    "rivers={'niles':'egypt','ganga':'india','karnali':'nepal'}\n",
    "for river,country in rivers.items():\n",
    "    print('The '+river.title()+' runs through '+country.title()+'.')\n",
    "print('\\n')\n",
    "for river in rivers.keys():\n",
    "    print(river.title())\n",
    "print('\\n')\n",
    "for country in rivers.values():\n",
    "    print(country.title())"
   ]
  },
  {
   "cell_type": "code",
   "execution_count": null,
   "metadata": {},
   "outputs": [],
   "source": [
    "#6.6 Polling\n",
    "#favorite_languages.py\n",
    "favorite_language={\n",
    "    'hishan':'japanese',\n",
    "    'aayush':'english',\n",
    "    'martin':'spanish',\n",
    "    'justin':'japanese',\n",
    "    'rajesh':'english'\n",
    "}\n",
    "friends=['hishan','gabriel','hella','rajesh']\n",
    "for name in friends:\n",
    "    if name in favorite_language.keys():\n",
    "        print('Thank you for taking our poll!!')\n",
    "    else:\n",
    "        print('Please, take our poll!!')"
   ]
  },
  {
   "cell_type": "markdown",
   "metadata": {},
   "source": [
    "### Nesting"
   ]
  },
  {
   "cell_type": "code",
   "execution_count": null,
   "metadata": {},
   "outputs": [],
   "source": [
    "#aliens.py\n",
    "alien_0={'color':'green','points':5}\n",
    "alien_1={'color':'red','points':15}\n",
    "alien_2={'color':'yekkow','points':25}\n",
    "aliens=[alien_0,alien_1,alien_2]\n",
    "\n",
    "for alien in aliens:\n",
    "    print(alien)"
   ]
  },
  {
   "cell_type": "code",
   "execution_count": null,
   "metadata": {},
   "outputs": [],
   "source": [
    "aliens=[]\n",
    "for alien_nmuber in range(0,30):\n",
    "    new_alien={'color':'green','points':5,'speed':'slow'}\n",
    "    aliens.append(new_alien)\n",
    "    \n",
    "for alien in aliens[0:3]:\n",
    "    if alien['color']=='green':\n",
    "        alien['color']='red'\n",
    "        alien['points']=10\n",
    "        alien['speed']='medium'\n",
    "    elif alien['color']=='red':\n",
    "        alien['color']='yellow'\n",
    "        alien['points']=15\n",
    "        alien['speed']='fast'\n",
    "#to show first 5 aliens\n",
    "for alien in aliens[:5]:\n",
    "    print(alien)\n",
    "print('...')\n",
    "#to show no of aliens\n",
    "print('Total numbers of aliens is:'+str(len(aliens)))"
   ]
  },
  {
   "cell_type": "code",
   "execution_count": null,
   "metadata": {},
   "outputs": [],
   "source": [
    "#list in dictionary\n",
    "#pizza.py\n",
    "pizza={\n",
    "    'crust':'thick',\n",
    "    'toppings':['mushroom','extra cheese','green pepper']\n",
    "}\n",
    "print('You ordered '+pizza['crust']+'crust with following toppings:')\n",
    "for topping in pizza['toppings']:\n",
    "    print('\\t'+topping)"
   ]
  },
  {
   "cell_type": "code",
   "execution_count": null,
   "metadata": {},
   "outputs": [],
   "source": [
    "favorite_language={\n",
    "    'hishan':['japanese','english'],\n",
    "    'aayush':['english','nepali'],\n",
    "    'martin':['spanish'],\n",
    "    'justin':['spanish','japanese'],\n",
    "    'rajesh':['hindi','english']\n",
    "}\n",
    "for names,languages in favorite_language.items():\n",
    "    print('\\n'+names.title()+' likes following languages:')\n",
    "    for language in languages:\n",
    "        print('\\t'+language.title())"
   ]
  },
  {
   "cell_type": "code",
   "execution_count": null,
   "metadata": {},
   "outputs": [],
   "source": [
    "#Dictionary inside dictionary\n",
    "#many_users.py\n",
    "users={\n",
    "    'aeinstein':{\n",
    "        'first':'albert',\n",
    "        'last':'einstein',\n",
    "        'location':'princeton'\n",
    "    },\n",
    "    'mcurie':{\n",
    "        'first':'marie',\n",
    "        'last':'curie',\n",
    "        'location':'paris'\n",
    "        \n",
    "    }\n",
    "}\n",
    "for username,user_info in users.items():\n",
    "    print('\\nUsername: '+username)\n",
    "    fullname=user_info['first']+' '+user_info['last']\n",
    "    location=user_info['location']\n",
    "    \n",
    "    print('\\tFull name: '+fullname.title())\n",
    "    print('\\tLocation: '+location.title())"
   ]
  },
  {
   "cell_type": "code",
   "execution_count": null,
   "metadata": {},
   "outputs": [],
   "source": [
    "#6.7 People\n",
    "#people.py\n",
    "person_0={\n",
    "    'first_name':'aakirti',\n",
    "    'last_name':'paudyal',\n",
    "    'age':21,\n",
    "    'city':'lalitpur'\n",
    "}\n",
    "person_1={\n",
    "    'first_name':'rojan',\n",
    "    'last_name':'shrestha',\n",
    "    'age':20,\n",
    "    'city':'bhaktapur'\n",
    "}\n",
    "person_2={\n",
    "    'first_name':'marie',\n",
    "    'last_name':'curie',\n",
    "    'age':35,\n",
    "    'city':'paris'\n",
    "}\n",
    "peoples=[person_0,person_1,person_2]\n",
    "\n",
    "for people in peoples:\n",
    "    print(people)\n"
   ]
  },
  {
   "cell_type": "code",
   "execution_count": null,
   "metadata": {},
   "outputs": [],
   "source": [
    "#6.8 pets\n",
    "#pets.py\n",
    "albert={\n",
    "    'species':'dog',\n",
    "    'breed':'husky',\n",
    "    'age':2\n",
    "}\n",
    "meww={\n",
    "    'species':'cat',\n",
    "    'breed':'persian',\n",
    "    'age':1.4,\n",
    "    \n",
    "}\n",
    "dumbo={\n",
    "    'species':'dog',\n",
    "    'breed':'golden retriver',\n",
    "    'age':3\n",
    "}\n",
    "pets=[albert,meww,dumbo]\n",
    "for pet in pets:\n",
    "    print(pet)"
   ]
  },
  {
   "cell_type": "code",
   "execution_count": null,
   "metadata": {},
   "outputs": [],
   "source": [
    "#6.9 favorite places\n",
    "#favorite_places.py\n",
    "favorite_places={\n",
    "    'rajan':['sinsneri','ABC','mustang'],\n",
    "    'aayush':['manang','mustang','rara'],\n",
    "    'aakirti':['paris','bali','new york']\n",
    "}\n",
    "for name,places in favorite_places.items():\n",
    "    print('Name: '+name.title()+'\\n')\n",
    "    print('Places:')\n",
    "    for place in places:\n",
    "        print('\\t'+place.title())\n",
    "    print('\\n')"
   ]
  },
  {
   "cell_type": "code",
   "execution_count": null,
   "metadata": {},
   "outputs": [],
   "source": [
    "#6.10 favorite numbers\n",
    "#favorite_numbers.py\n",
    "favorite_number={\n",
    "    'aisha':[9,5,8],\n",
    "    'aman':[10,12,56],\n",
    "    'martin':[69,420,100],\n",
    "    'lucifer':[12,420],\n",
    "    'hella':[3,6,9]\n",
    "}\n",
    "for name,numbers in favorite_number.items():\n",
    "    print('\\nName: '+name.title())\n",
    "    print('favorite numbers are:')\n",
    "    for number in numbers:\n",
    "        print(number)\n"
   ]
  },
  {
   "cell_type": "code",
   "execution_count": null,
   "metadata": {},
   "outputs": [],
   "source": [
    "#6.11 cities\n",
    "#cities.py\n",
    "cities ={\n",
    "    'Bhaktapur':{\n",
    "        'Country':'Nepal',\n",
    "        'Population':'300k',\n",
    "        'fact':\"Smallest district of Nepal\"\n",
    "    },\n",
    "    'Sydney':{\n",
    "        'Country':'Australia',\n",
    "        'Population':'5.12M',\n",
    "        'fact':'Best known for Opera House'\n",
    "    },\n",
    "    'New York':{\n",
    "        'Country':'US',\n",
    "        'Population':\"8.1M\",\n",
    "        'fact':\"Statue of liberty lies here\"\n",
    "    }\n",
    "}\n",
    "for city ,info in cities.items():\n",
    "    print('\\n'+city.title())\n",
    "    for key,value in info.items():\n",
    "        print(key+':'+value)"
   ]
  },
  {
   "cell_type": "code",
   "execution_count": null,
   "metadata": {},
   "outputs": [],
   "source": [
    "#6.12 Extensions\n",
    "favorite_number={\n",
    "    'aisha':[9,5,8],\n",
    "    'aman':[10,12,56],\n",
    "    'martin':[69,420,100],\n",
    "    'lucifer':[12,420],\n",
    "    'hella':[3,6,9]\n",
    "}\n",
    "for name,numbers in favorite_number.items():\n",
    "    print('\\nName: '+name.title())\n",
    "    print('favorite numbers are:')\n",
    "    for number in numbers:\n",
    "        print(number)"
   ]
  },
  {
   "cell_type": "markdown",
   "metadata": {},
   "source": [
    "# User Input and while loops"
   ]
  },
  {
   "cell_type": "code",
   "execution_count": null,
   "metadata": {},
   "outputs": [],
   "source": [
    "#parrot.py\n",
    "message=input('Tell me something, and I\\'ll repeat it back to you!!' )\n",
    "print(message)"
   ]
  },
  {
   "cell_type": "code",
   "execution_count": null,
   "metadata": {},
   "outputs": [],
   "source": [
    "#greeter.py\n",
    "name=input('Enter you name!')\n",
    "print('Hello, Mr.'+name+' It\\'s  pleasure to finally meet you!')"
   ]
  },
  {
   "cell_type": "code",
   "execution_count": null,
   "metadata": {},
   "outputs": [],
   "source": [
    "#age.py\n",
    "age=input('Enter your age')\n",
    "print(age)# here age is not numeric instead its string so error is encountered\n",
    "if age>=18:\n",
    "    print('Adult')"
   ]
  },
  {
   "cell_type": "code",
   "execution_count": null,
   "metadata": {},
   "outputs": [],
   "source": [
    "#to avoid above error\n",
    "#age=int(input('Enter your age'))\n",
    "#or\n",
    "age=input('Enter your age')\n",
    "age=int(age)\n",
    "print(age)\n",
    "if age>=18:\n",
    "    print('Adult')\n",
    "else:\n",
    "    print('kid')"
   ]
  },
  {
   "cell_type": "code",
   "execution_count": null,
   "metadata": {},
   "outputs": [],
   "source": [
    "#rollercoster.py\n",
    "height = int(input(\"How tall are you, in inches? \"))\n",
    "if height >= 36:\n",
    "    print(\"\\nYou're tall enough to ride!\")\n",
    "else:\n",
    "    print(\"\\nYou'll be able to ride when you're a little older.\")"
   ]
  },
  {
   "cell_type": "code",
   "execution_count": null,
   "metadata": {},
   "outputs": [],
   "source": [
    "#Modulo Operator\n",
    "#gives remainder\n",
    "4%3\n",
    "5%3\n",
    "6%3"
   ]
  },
  {
   "cell_type": "code",
   "execution_count": null,
   "metadata": {},
   "outputs": [],
   "source": [
    "#even_odd.py\n",
    "number = int(input(\"Enter a number, and I'll tell you if it's even or odd: \"))\n",
    "if number % 2 == 0:\n",
    "    print(\"\\nThe number \" + str(number) + \" is even.\")\n",
    "else:\n",
    "    print(\"\\nThe number \" + str(number) + \" is odd.\")"
   ]
  },
  {
   "cell_type": "code",
   "execution_count": null,
   "metadata": {},
   "outputs": [],
   "source": [
    "#7.1 Rental car\n",
    "rental_car=input(\"What kind of care would you like?\")\n",
    "print('Let me see if I can find '+rental_car+' for you!')"
   ]
  },
  {
   "cell_type": "code",
   "execution_count": null,
   "metadata": {},
   "outputs": [],
   "source": [
    "#7.2 Resturant seating\n",
    "people=int(input('How many people are you in the group?'))\n",
    "if people>=8:\n",
    "    print('You will have to wait for table!!')\n",
    "else:\n",
    "    print('Your table is ready!!')"
   ]
  },
  {
   "cell_type": "code",
   "execution_count": null,
   "metadata": {},
   "outputs": [],
   "source": [
    "#7.3\n",
    "number=int(input('Enter your number'))\n",
    "if number%10==0:\n",
    "    print('your number is multiple of 10')\n",
    "else:\n",
    "    print('Your number isn\\'t multiple of 10')"
   ]
  },
  {
   "cell_type": "markdown",
   "metadata": {},
   "source": [
    "## while loops"
   ]
  },
  {
   "cell_type": "code",
   "execution_count": null,
   "metadata": {},
   "outputs": [],
   "source": [
    "#countiing.py\n",
    "current_number=1\n",
    "while current_number<=10:\n",
    "    print(current_number)\n",
    "    current_number+=1"
   ]
  },
  {
   "cell_type": "code",
   "execution_count": null,
   "metadata": {},
   "outputs": [],
   "source": [
    "#letting user to choose when to quit\n",
    "#parrot.py\n",
    "prompt = \"\\nTell me something, and I will repeat it back to you:\"\n",
    "prompt += \"\\nEnter 'quit' to end the program. \"\n",
    "message=''\n",
    "while message !='quit':\n",
    "    message=input(prompt)\n",
    "    if message!='quit':\n",
    "        print(message)"
   ]
  },
  {
   "cell_type": "markdown",
   "metadata": {},
   "source": [
    "### Using a flag"
   ]
  },
  {
   "cell_type": "code",
   "execution_count": null,
   "metadata": {},
   "outputs": [],
   "source": [
    "prompt = \"\\nTell me something, and I will repeat it back to you:\"\n",
    "prompt += \"\\nEnter 'quit' to end the program. \"\n",
    "active=True\n",
    "while active:\n",
    "    message=input(prompt)\n",
    "    \n",
    "    if message=='quit':\n",
    "        active=False\n",
    "    else:\n",
    "        print(message)"
   ]
  },
  {
   "cell_type": "markdown",
   "metadata": {},
   "source": [
    "### Using break to Exit a Loop"
   ]
  },
  {
   "cell_type": "code",
   "execution_count": null,
   "metadata": {},
   "outputs": [],
   "source": [
    "#cities.py\n",
    "prompt='\\n Please enter the name of city you have visited'\n",
    "prompt +='\\n Enter quit to exit the program. '\n",
    "while True:\n",
    "    city=input(prompt)\n",
    "    if city=='quit':\n",
    "        break\n",
    "    else:\n",
    "        print(' I would also like to visit '+city.title()+' someday.')"
   ]
  },
  {
   "cell_type": "markdown",
   "metadata": {},
   "source": [
    "### Using continue in a loop"
   ]
  },
  {
   "cell_type": "code",
   "execution_count": null,
   "metadata": {},
   "outputs": [],
   "source": [
    "#Counting.py\n",
    "current_number=0\n",
    "while current_number<10:\n",
    "    current_number+=1\n",
    "    if current_number%2==0:#continue says ignore the loop after continue nd return to the begining\n",
    "        continue\n",
    "    else:\n",
    "        print(current_number)"
   ]
  },
  {
   "cell_type": "code",
   "execution_count": null,
   "metadata": {},
   "outputs": [],
   "source": [
    "#infinite loop\n",
    "x=1\n",
    "while x<=5:\n",
    "    print(x)\n",
    "    x+=1#if we ommit this line loop will run forever"
   ]
  },
  {
   "cell_type": "code",
   "execution_count": null,
   "metadata": {},
   "outputs": [],
   "source": [
    "#7.4 Pizza toppings\n",
    "prompt='\\nPlease enter the topping you would like to add in ypur pizza'\n",
    "prompt +='\\nPlease enter \\'quit\\' to stop adding toppings. '\n",
    "toppings=''\n",
    "while toppings !='quit':\n",
    "    toppings=input(prompt)\n",
    "    if toppings!='quit':\n",
    "        print( toppings.title()+' will be added in your pizza')"
   ]
  },
  {
   "cell_type": "code",
   "execution_count": null,
   "metadata": {},
   "outputs": [],
   "source": [
    "#7.5 movie ticket\n",
    "prompt='\\nHow old are you? '\n",
    "active=True\n",
    "while active:\n",
    "    age=int(input(prompt))\n",
    "    if age<=3:\n",
    "        print('Ticket is free for the child')\n",
    "    elif age>3 and age<=12:\n",
    "        print('Ticket costs $10')\n",
    "    else:\n",
    "        print('Ticket costs $15')\n",
    "    decision=input('Enter \"y\" to continue and \"n\" to end program. ')\n",
    "    if decision=='n':\n",
    "        active=False\n",
    "            "
   ]
  },
  {
   "cell_type": "code",
   "execution_count": null,
   "metadata": {},
   "outputs": [],
   "source": [
    "#7.6 three exits\n",
    "prompt='\\nHow old are you? '\n",
    "prompt+='\\nEnter \"quit\" to exit '\n",
    "active=True\n",
    "while active:\n",
    "    age=input(prompt)\n",
    "    if age=='quit':\n",
    "        break\n",
    "    age=int(age)\n",
    "    if age<=3:\n",
    "        print('Ticket is free for the child')\n",
    "    elif age>3 and age<=12:\n",
    "        print('Ticket costs $10')\n",
    "    else:\n",
    "        print('Ticket costs $15')"
   ]
  },
  {
   "cell_type": "code",
   "execution_count": null,
   "metadata": {},
   "outputs": [],
   "source": [
    "#7.7 infinity\n",
    "num=2\n",
    "while num<5:\n",
    "    print(num)"
   ]
  },
  {
   "cell_type": "markdown",
   "metadata": {},
   "source": [
    "### Using a while Loop with Lists and Dictionaries"
   ]
  },
  {
   "cell_type": "code",
   "execution_count": null,
   "metadata": {},
   "outputs": [],
   "source": [
    "#moving items from one list to another\n",
    "#confirmed_users.py\n",
    "unconfirmed_users=['alice','mandy','drake']\n",
    "confirmed_users=[]\n",
    "while unconfirmed_users:\n",
    "    current_user=unconfirmed_users.pop()\n",
    "    print('Verifying user: '+current_user.title())\n",
    "    \n",
    "    confirmed_users.append(current_user)\n",
    "print('\\nConfirmed users are:')\n",
    "for users in confirmed_users:\n",
    "    print(users.title())"
   ]
  },
  {
   "cell_type": "code",
   "execution_count": null,
   "metadata": {},
   "outputs": [],
   "source": [
    "#pets.py\n",
    "pets = ['dog', 'cat', 'dog', 'goldfish', 'cat', 'rabbit', 'cat']\n",
    "print(pets)\n",
    "while 'cat' in pets:\n",
    "    pets.remove('cat')\n",
    "print('After removing cats:\\n'+str(pets))"
   ]
  },
  {
   "cell_type": "markdown",
   "metadata": {},
   "source": [
    "###  Filling a Dictionary with User Input"
   ]
  },
  {
   "cell_type": "code",
   "execution_count": 3,
   "metadata": {},
   "outputs": [
    {
     "name": "stdout",
     "output_type": "stream",
     "text": [
      "\n",
      "What is you name? hishan\n",
      "Which mountain would you like to climb someday? everest\n",
      "Anyone left to take the poll? (yes/no)n\n",
      "\n",
      "__Polling Result__\n",
      "Hishan would like to climb Everest\n"
     ]
    }
   ],
   "source": [
    "#mountains.py\n",
    "responses={}#initializing empty dictionary\n",
    "polling_active=True #set a flag to indicating polling is active\n",
    "\n",
    "while polling_active:\n",
    "    name=input('\\nWhat is you name? ')\n",
    "    response=input('Which mountain would you like to climb someday? ')\n",
    "    \n",
    "    responses[name]=response #storing the response in dictionary\n",
    "    \n",
    "    repeat=input('Anyone left to take the poll? (yes/no)')\n",
    "    if repeat=='no' or 'n':\n",
    "        polling_active=False\n",
    "    \n",
    "    print('\\n__Polling Result__')\n",
    "    \n",
    "    for name,response in responses.items():\n",
    "        print(name.title()+' would like to climb '+response.title())\n",
    "    \n",
    "    "
   ]
  },
  {
   "cell_type": "code",
   "execution_count": 15,
   "metadata": {},
   "outputs": [
    {
     "name": "stdout",
     "output_type": "stream",
     "text": [
      "\n",
      "I made your Egg Salad sandwich..\n",
      "Egg Salad was successfully made.\n",
      "\n",
      "I made your Club sandwich..\n",
      "Club was successfully made.\n",
      "\n",
      "I made your Tuna sandwich..\n",
      "Tuna was successfully made.\n",
      "\n",
      "I made your Grilled Chicken sandwich..\n",
      "Grilled Chicken was successfully made.\n",
      "\n",
      "I made your Garlic Cheese sandwich..\n",
      "Garlic Cheese was successfully made.\n"
     ]
    }
   ],
   "source": [
    "#7.8 Deli\n",
    "sandwich_orders=['garlic cheese','grilled chicken','tuna','club','egg salad']\n",
    "finished_sandwiches=[]\n",
    "# for sandwich in sandwich_orders:\n",
    "#     print('\\nI made you a '+sandwich+' sandwich.')\n",
    "#     sandwiches=sandwich_orders.pop()\n",
    "#     finished_sandwiches.append(sandwich)\n",
    "#     print(sandwich.title()+' sandwich was made')\n",
    "\n",
    "while sandwich_orders:\n",
    "    sandwich=sandwich_orders.pop()\n",
    "    print('\\nI made your '+sandwich.title()+' sandwich..')\n",
    "    finished_sandwiches.append(sandwich)\n",
    "    print(sandwich.title()+' was successfully made.')"
   ]
  },
  {
   "cell_type": "code",
   "execution_count": 1,
   "metadata": {},
   "outputs": [
    {
     "name": "stdout",
     "output_type": "stream",
     "text": [
      "Deli has run out of pastrami.\n",
      "\n",
      "I made your Egg Salad sandwich..\n",
      "Egg Salad was successfully made.\n",
      "\n",
      "I made your Club sandwich..\n",
      "Club was successfully made.\n",
      "\n",
      "I made your Grilled Chicken sandwich..\n",
      "Grilled Chicken was successfully made.\n"
     ]
    }
   ],
   "source": [
    "#7.9 No Pastrami\n",
    "sandwich_orders=['pastrami','grilled chicken','pastrami','club','egg salad','pastrami']\n",
    "finished_sandwiches=[]\n",
    "print('Deli has run out of pastrami.')\n",
    "while 'pastrami' in sandwich_orders:\n",
    "    sandwich_orders.remove('pastrami')\n",
    "    \n",
    "while sandwich_orders:\n",
    "    sandwich=sandwich_orders.pop()\n",
    "    print('\\nI made your '+sandwich.title()+' sandwich..')\n",
    "    finished_sandwiches.append(sandwich)\n",
    "    print(sandwich.title()+' was successfully made.')"
   ]
  },
  {
   "cell_type": "code",
   "execution_count": 1,
   "metadata": {},
   "outputs": [
    {
     "name": "stdout",
     "output_type": "stream",
     "text": [
      "\n",
      "what's your name? hishan\n",
      "If you could visiot one place in world, Where would it be? greece\n",
      "\n",
      " Any one left to take poll?(yes/no) y\n",
      "\n",
      "what's your name? aakirti\n",
      "If you could visiot one place in world, Where would it be? bali\n",
      "\n",
      " Any one left to take poll?(yes/no) no\n",
      "\n",
      "__Polling Result__\n",
      "Hishan's dream vacation is Greece\n",
      "Aakirti's dream vacation is Bali\n"
     ]
    }
   ],
   "source": [
    "#7.10 Dream Vacation\n",
    "dream_vacation={}\n",
    "polling_status=True\n",
    "while polling_status:\n",
    "    name=input(\"\\nwhat's your name? \")\n",
    "    response=input('If you could visiot one place in world, Where would it be? ')\n",
    "    \n",
    "    dream_vacation[name]=response\n",
    "    repeat=input('\\n Any one left to take poll?(yes/no) ')\n",
    "    if repeat=='no':\n",
    "        polling_status=False\n",
    "print('\\n__Polling Result__')\n",
    "for name,response in dream_vacation.items():\n",
    "    print(name.title()+\"'s dream vacation is \"+response.title())\n",
    "    "
   ]
  },
  {
   "cell_type": "markdown",
   "metadata": {},
   "source": [
    "# Functions"
   ]
  },
  {
   "cell_type": "code",
   "execution_count": 1,
   "metadata": {},
   "outputs": [
    {
     "name": "stdout",
     "output_type": "stream",
     "text": [
      "Hello\n"
     ]
    }
   ],
   "source": [
    "#defining a function\n",
    "#greeter.py\n",
    "def greet_user():\n",
    "    \"\"\"Displaying a simple greetings.\"\"\"#its a comment called doc string that says what the function does\n",
    "    print('Hello')\n",
    "greet_user()"
   ]
  },
  {
   "cell_type": "code",
   "execution_count": 4,
   "metadata": {},
   "outputs": [
    {
     "name": "stdout",
     "output_type": "stream",
     "text": [
      "Hi Adam, How are you?\n"
     ]
    }
   ],
   "source": [
    "#passing info to a function\n",
    "def greet_user(username):\n",
    "    print('Hi '+username+', How are you?')\n",
    "greet_user('Adam')\n",
    "##in this example 'adam' is argument and username is parameter\n",
    "#An argument is a piece of information that is passed from a function call to a function. "
   ]
  },
  {
   "cell_type": "code",
   "execution_count": 5,
   "metadata": {},
   "outputs": [
    {
     "name": "stdout",
     "output_type": "stream",
     "text": [
      "We are learning about functions in python!!\n"
     ]
    }
   ],
   "source": [
    "#8.1 message\n",
    "def display_message():\n",
    "    print('We are learning about functions in python!!')\n",
    "display_message()"
   ]
  },
  {
   "cell_type": "code",
   "execution_count": 10,
   "metadata": {},
   "outputs": [
    {
     "name": "stdout",
     "output_type": "stream",
     "text": [
      "One of my favorite book is Alice In Wonderland.\n",
      "One of my favorite book is The Alchemist.\n"
     ]
    }
   ],
   "source": [
    "#8.2 favorite books\n",
    "def favorite_books(title):\n",
    "    print('One of my favorite book is '+title.title()+'.')\n",
    "favorite_books('Alice in wonderland')\n",
    "favorite_books('The Alchemist')\n",
    "    "
   ]
  },
  {
   "cell_type": "code",
   "execution_count": 12,
   "metadata": {},
   "outputs": [
    {
     "name": "stdout",
     "output_type": "stream",
     "text": [
      "\n",
      "I have a dog.\n",
      "My dog's name is Mark.\n",
      "\n",
      "I have a Hamster.\n",
      "My Hamster's name is Harry.\n"
     ]
    }
   ],
   "source": [
    "#Passing arguments\n",
    "#Positional arguments\n",
    "#pets.py\n",
    "def describe_pets(animal_type,pet_name):\n",
    "    \"\"\"Displaying information about pet.\"\"\"\n",
    "    print('\\nI have a '+animal_type+'.')\n",
    "    print('My '+animal_type+'\\'s name is '+pet_name.title()+'.')\n",
    "describe_pets('dog','mark')\n",
    "describe_pets('Hamster','harry')"
   ]
  },
  {
   "cell_type": "code",
   "execution_count": 13,
   "metadata": {},
   "outputs": [],
   "source": [
    "#Order Matters in Positional Arguments"
   ]
  },
  {
   "cell_type": "markdown",
   "metadata": {},
   "source": [
    "### Keyword Arguments\n",
    "A keyword argument is a name-value pair that you pass to a function.\n",
    "\n",
    "we directly associate the name and the value within the argument, so when we\n",
    "pass the argument to the function there is no confusion"
   ]
  },
  {
   "cell_type": "code",
   "execution_count": 15,
   "metadata": {},
   "outputs": [
    {
     "name": "stdout",
     "output_type": "stream",
     "text": [
      "\n",
      "I have a dog.\n",
      "My dog's name is Mark.\n",
      "\n",
      "I have a hamster.\n",
      "My hamster's name is Harry.\n"
     ]
    }
   ],
   "source": [
    "def describe_pets(animal_type,pet_name):\n",
    "    \"\"\"Displaying information about pet.\"\"\"\n",
    "    print('\\nI have a '+animal_type+'.')\n",
    "    print('My '+animal_type+'\\'s name is '+pet_name.title()+'.')\n",
    "describe_pets(animal_type='dog',pet_name='mark')\n",
    "describe_pets(pet_name='harry',animal_type='hamster')"
   ]
  },
  {
   "cell_type": "code",
   "execution_count": 27,
   "metadata": {},
   "outputs": [
    {
     "name": "stdout",
     "output_type": "stream",
     "text": [
      "\n",
      "I have a dog.\n",
      "My dog's name is Willie.\n",
      "\n",
      "I have a dog.\n",
      "My dog's name is Harry.\n",
      "\n",
      "I have a hamster.\n",
      "My hamster's name is Harry.\n"
     ]
    }
   ],
   "source": [
    "#default value call\n",
    "def describe_pets(pet_name,animal_type='dog'):\n",
    "    \"\"\"Displaying information about pet.\"\"\"\n",
    "    print('\\nI have a '+animal_type+'.')\n",
    "    print('My '+animal_type+'\\'s name is '+pet_name.title()+'.')\n",
    "describe_pets(pet_name='willie')\n",
    "describe_pets('harry')\n",
    "describe_pets(pet_name='harry',animal_type='hamster')#function ignores default value cause animal type is explictly called"
   ]
  },
  {
   "cell_type": "code",
   "execution_count": 28,
   "metadata": {},
   "outputs": [
    {
     "name": "stdout",
     "output_type": "stream",
     "text": [
      "\n",
      "I have a dog.\n",
      "My dog's name is Willie.\n",
      "\n",
      "I have a dog.\n",
      "My dog's name is Willie.\n",
      "\n",
      "I have a hamster.\n",
      "My hamster's name is Harry.\n",
      "\n",
      "I have a hamster.\n",
      "My hamster's name is Harry.\n",
      "\n",
      "I have a hamster.\n",
      "My hamster's name is Harry.\n"
     ]
    }
   ],
   "source": [
    "#equivalent function calls\n",
    "def describe_pets(pet_name,animal_type='dog'):\n",
    "    \"\"\"Displaying information about pet.\"\"\"\n",
    "    print('\\nI have a '+animal_type+'.')\n",
    "    print('My '+animal_type+'\\'s name is '+pet_name.title()+'.')\n",
    "# A dog named Willie.\n",
    "describe_pets('willie')\n",
    "describe_pets(pet_name='willie')\n",
    "# A hamster named Harry.\n",
    "describe_pets('harry', 'hamster')\n",
    "describe_pets(pet_name='harry', animal_type='hamster')\n",
    "describe_pets(animal_type='hamster', pet_name='harry')"
   ]
  },
  {
   "cell_type": "code",
   "execution_count": 32,
   "metadata": {},
   "outputs": [
    {
     "name": "stdout",
     "output_type": "stream",
     "text": [
      "\n",
      "I have a dog.\n",
      "My dog's name is Harry.\n"
     ]
    }
   ],
   "source": [
    "#avoiding arugment error\n",
    "def describe_pets(pet_name,animal_type='dog'):\n",
    "    \"\"\"Displaying information about pet.\"\"\"\n",
    "    print('\\nI have a '+animal_type+'.')\n",
    "    print('My '+animal_type+'\\'s name is '+pet_name.title()+'.')\n",
    "#describe_pets() #no argument is passed so error\n",
    "#solution\n",
    "describe_pets('harry')"
   ]
  },
  {
   "cell_type": "code",
   "execution_count": 34,
   "metadata": {},
   "outputs": [
    {
     "name": "stdout",
     "output_type": "stream",
     "text": [
      "The size of Tshirt is medium and the message to be printed is Bullshit!!\n",
      "The size of Tshirt is large and the message to be printed is Wildin' Out !!!!\n"
     ]
    }
   ],
   "source": [
    "#8.3 T-shirt\n",
    "def make_shirt(size,message):\n",
    "    print('The size of Tshirt is '+size+' and the message to be printed is '+message+'!!')\n",
    "#positional argument\n",
    "make_shirt('medium','Bullshit')\n",
    "\n",
    "#keyword argument\n",
    "make_shirt(size='large',message='Wildin\\' Out !!')"
   ]
  },
  {
   "cell_type": "code",
   "execution_count": 43,
   "metadata": {},
   "outputs": [
    {
     "name": "stdout",
     "output_type": "stream",
     "text": [
      "The size of Tshirt is large and the message to be printed is I Love python!!\n",
      "The size of Tshirt is medium and the message to be printed is I Love python!!\n",
      "The size of Tshirt is small and the message to be printed is Love this game!!\n",
      "The size of Tshirt is medium and the message to be printed is Peace!!\n",
      "The size of Tshirt is large and the message to be printed is having fun!!\n"
     ]
    }
   ],
   "source": [
    "#8.4 large shirts\n",
    "def make_shirt(size='large',message='I Love python'):\n",
    "    print('The size of Tshirt is '+size+' and the message to be printed is '+message+'!!')\n",
    "make_shirt()\n",
    "make_shirt(size='medium')\n",
    "make_shirt('small','Love this game')\n",
    "make_shirt('medium','Peace')\n",
    "make_shirt('large','having fun')\n",
    "\n"
   ]
  },
  {
   "cell_type": "code",
   "execution_count": 45,
   "metadata": {},
   "outputs": [
    {
     "name": "stdout",
     "output_type": "stream",
     "text": [
      "Bhaktapur is in Nepal\n",
      "Kathmandu is in Nepal\n",
      "Mumbai is in India\n"
     ]
    }
   ],
   "source": [
    "#8.5 cities\n",
    "def describe_city(name,country='Nepal'):\n",
    "    print(name.title()+ ' is in '+country.title())\n",
    "describe_city('bhaktapur')\n",
    "describe_city('kathmandu')\n",
    "describe_city('mumbai','india')"
   ]
  },
  {
   "cell_type": "markdown",
   "metadata": {},
   "source": [
    "### Return values"
   ]
  },
  {
   "cell_type": "code",
   "execution_count": 46,
   "metadata": {},
   "outputs": [
    {
     "name": "stdout",
     "output_type": "stream",
     "text": [
      "Mark Henry\n"
     ]
    }
   ],
   "source": [
    "#returning simple value\n",
    "#formatted_name.py\n",
    "def get_formatted_name(first_name,last_name):\n",
    "    '''Return a full name, neatly formated'''\n",
    "    full_name=first_name+' '+last_name\n",
    "    return full_name.title()\n",
    "Name= get_formatted_name('mark','henry')\n",
    "print(Name)"
   ]
  },
  {
   "cell_type": "code",
   "execution_count": 52,
   "metadata": {},
   "outputs": [
    {
     "name": "stdout",
     "output_type": "stream",
     "text": [
      "Mark Johnson Henry\n",
      "John Legend\n"
     ]
    }
   ],
   "source": [
    "#making an argument optional\n",
    "def get_formatted_name(first_name,last_name,middle_name=''):\n",
    "    '''Return a full name, neatly formated'''\n",
    "    if middle_name:\n",
    "        full_name=first_name+' '+middle_name+' ' +last_name\n",
    "    else:\n",
    "        full_name=first_name+' '+last_name\n",
    "    return full_name.title()\n",
    "musician= get_formatted_name('mark','henry','johnson')\n",
    "print(musician)\n",
    "musician=get_formatted_name('john','legend')\n",
    "print(musician)"
   ]
  },
  {
   "cell_type": "code",
   "execution_count": 61,
   "metadata": {},
   "outputs": [
    {
     "name": "stdout",
     "output_type": "stream",
     "text": [
      "{'first_name': 'jimi', 'last_name': 'hendrix'}\n"
     ]
    }
   ],
   "source": [
    "#returning a dictionary\n",
    "#person.py\n",
    "def build_person(first_name,last_name):\n",
    "    \"\"\"Return a dictionary of information about a person.\"\"\"\n",
    "    person={'first_name':first_name,'last_name':last_name}\n",
    "    return person\n",
    "musician=build_person('jimi','hendrix')\n",
    "print(musician)"
   ]
  },
  {
   "cell_type": "code",
   "execution_count": 65,
   "metadata": {},
   "outputs": [
    {
     "name": "stdout",
     "output_type": "stream",
     "text": [
      "{'first_name': 'jimi', 'last_name': 'hendrix', 'age': 27}\n",
      "{'first_name': 'jimi', 'last_name': 'hendrix', 'age': 28}\n"
     ]
    }
   ],
   "source": [
    "def build_person(first_name,last_name,age=''):\n",
    "    \"\"\"Return a dictionary of information about a person.\"\"\"\n",
    "    person={'first_name':first_name,'last_name':last_name}\n",
    "    if age:\n",
    "        person['age']=age\n",
    "    return person\n",
    "musician=build_person('jimi','hendrix',27)\n",
    "print(musician)\n",
    "musician=build_person('jimi','hendrix',age=28)\n",
    "print(musician)"
   ]
  },
  {
   "cell_type": "markdown",
   "metadata": {},
   "source": [
    "### Using a function with a while loop"
   ]
  },
  {
   "cell_type": "code",
   "execution_count": null,
   "metadata": {},
   "outputs": [],
   "source": [
    "def get_formatted_name(first_name,last_name):\n",
    "    '''Return a full name, neatly formated'''\n",
    "    full_name=first_name+' '+last_name\n",
    "    return full_name.title()\n",
    "#this is an infinite loop\n",
    "while True:\n",
    "    print('\\nPlease enter your full name:')\n",
    "    f_name=input('Enter your first name: ')\n",
    "    l_name=input('Enter you last name: ')\n",
    "    \n",
    "    formatted_name=get_formatted_name(f_name,l_name)\n",
    "    print('\\nHello '+formatted_name+'!')\n"
   ]
  },
  {
   "cell_type": "code",
   "execution_count": 1,
   "metadata": {},
   "outputs": [
    {
     "name": "stdout",
     "output_type": "stream",
     "text": [
      "\n",
      "Please enter your full name:\n",
      "Enter 'q' to quit!!\n",
      "Enter your first name: Hishan\n",
      "Enter you last name: shrestha\n",
      "\n",
      "Hello Hishan Shrestha!\n",
      "\n",
      "Please enter your full name:\n",
      "Enter 'q' to quit!!\n",
      "Enter your first name: aakirti \n",
      "Enter you last name: paudyal\n",
      "\n",
      "Hello Aakirti  Paudyal!\n",
      "\n",
      "Please enter your full name:\n",
      "Enter 'q' to quit!!\n",
      "Enter your first name: q\n"
     ]
    }
   ],
   "source": [
    "def get_formatted_name(first_name,last_name):\n",
    "    '''Return a full name, neatly formated'''\n",
    "    full_name=first_name+' '+last_name\n",
    "    return full_name.title()\n",
    "#this is an infinite loop\n",
    "while True:\n",
    "    print('\\nPlease enter your full name:')\n",
    "    print(\"Enter 'q' to quit!!\")\n",
    "    f_name=input('Enter your first name: ')\n",
    "    if f_name=='q':\n",
    "        break\n",
    "    l_name=input('Enter you last name: ')\n",
    "    if l_name=='q':\n",
    "        break\n",
    "    \n",
    "    formatted_name=get_formatted_name(f_name,l_name)\n",
    "    print('\\nHello '+formatted_name+'!')\n"
   ]
  },
  {
   "cell_type": "code",
   "execution_count": 17,
   "metadata": {},
   "outputs": [
    {
     "name": "stdout",
     "output_type": "stream",
     "text": [
      "Kathmandu, Nepal\n",
      "Bhaktapur, Nepal\n",
      "Sydney, Australia\n"
     ]
    }
   ],
   "source": [
    "#8.6 City names\n",
    "def city_country(city,country):\n",
    "    city_country= city +', '+country\n",
    "    return city_country.title()\n",
    "address1=city_country('kathmandu','nepal')\n",
    "print(address1)\n",
    "address2=city_country('bhaktapur','nepal')\n",
    "print(address2)\n",
    "address3=city_country('sydney','australia')\n",
    "print(address3)"
   ]
  },
  {
   "cell_type": "code",
   "execution_count": 22,
   "metadata": {},
   "outputs": [
    {
     "name": "stdout",
     "output_type": "stream",
     "text": [
      "{'Artist name': 'Chris Brown', 'Album Title': 'Paradise'}\n",
      "{'Artist name': 'Taylor Swift', 'Album Title': 'Red'}\n",
      "{'Artist name': 'John Legend', 'Album Title': 'All Of You'}\n",
      "{'Artist name': 'John Legend', 'Album Title': 'All Of You', 'No of tracks': 10}\n"
     ]
    }
   ],
   "source": [
    "#8.7 Album\n",
    "def make_album(artist_name,album_title,tracks=''):\n",
    "    if tracks:\n",
    "        album={'Artist name':artist_name.title(),'Album Title':album_title.title(),'No of tracks':tracks}\n",
    "    else:\n",
    "        album={'Artist name':artist_name.title(),'Album Title':album_title.title()}\n",
    "    return album\n",
    "album1=make_album('chris brown','paradise')\n",
    "print(album1)\n",
    "album2=make_album('taylor swift','red')\n",
    "print(album2)\n",
    "album3=make_album('John legend','all of you')\n",
    "print(album3)\n",
    "album4=make_album('John legend','all of you',10)\n",
    "print(album4)"
   ]
  },
  {
   "cell_type": "code",
   "execution_count": 29,
   "metadata": {},
   "outputs": [
    {
     "name": "stdout",
     "output_type": "stream",
     "text": [
      "\n",
      "Enter album detail\n",
      "Enter q to quit\n",
      "Enter artist name: Ed sheeran\n",
      "enter album title: shape of you\n",
      "{'Artist name': 'Ed Sheeran', 'Album Title': 'Shape Of You'}\n",
      "\n",
      "Enter album detail\n",
      "Enter q to quit\n",
      "Enter artist name: taylor\n",
      "enter album title: red\n",
      "{'Artist name': 'Taylor', 'Album Title': 'Red'}\n",
      "\n",
      "Enter album detail\n",
      "Enter q to quit\n",
      "Enter artist name: q\n"
     ]
    }
   ],
   "source": [
    "def make_album(artist_name,album_title):\n",
    "    album={'Artist name':artist_name.title(),'Album Title':album_title.title()}\n",
    "    return album\n",
    "\n",
    "while True:\n",
    "    print('\\nEnter album detail')\n",
    "    print('Enter q to quit')\n",
    "    artist=input('Enter artist name: ')\n",
    "    if artist=='q':\n",
    "        break\n",
    "    title=input('enter album title: ')\n",
    "    if title=='q':\n",
    "        break\n",
    "        \n",
    "    album=make_album(artist,title)\n",
    "    print(album)\n",
    "    "
   ]
  },
  {
   "cell_type": "markdown",
   "metadata": {},
   "source": [
    "## Passing a List"
   ]
  },
  {
   "cell_type": "code",
   "execution_count": 2,
   "metadata": {},
   "outputs": [
    {
     "name": "stdout",
     "output_type": "stream",
     "text": [
      "Hello Mr.Hannah, How are you ?\n",
      "Hello Mr.Harry, How are you ?\n",
      "Hello Mr.Martin, How are you ?\n"
     ]
    }
   ],
   "source": [
    "#greet_users.py\n",
    "def greet_users(names):\n",
    "    \"\"\"Print a simple greeting to each user in the list\"\"\"\n",
    "    for name in names:\n",
    "        message='Hello Mr.'+name.title()+', How are you ?'\n",
    "        print(message)\n",
    "username=['hannah','harry','martin']\n",
    "greet_users(username)"
   ]
  },
  {
   "cell_type": "code",
   "execution_count": 10,
   "metadata": {},
   "outputs": [
    {
     "name": "stdout",
     "output_type": "stream",
     "text": [
      "Printing model: dodecahedron\n",
      "Printing model: robot pendant\n",
      "Printing model: iphone case\n",
      "\n",
      "Completed designs are:\n",
      "dodecahedron\n",
      "robot pendant\n",
      "iphone case\n"
     ]
    }
   ],
   "source": [
    "#modifying list in  a function\n",
    "#prinitng model.py\n",
    "#start with some designs that need to be printed.\n",
    "unprinted_design=['iphone case','robot pendant','dodecahedron']\n",
    "completed_models=[]\n",
    "# Simulate printing each design, until none are left.\n",
    "# Move each design to completed_models after printing.\n",
    "while unprinted_design:\n",
    "    current_design=unprinted_design.pop()\n",
    "    # Simulate creating a 3D print from the design.\n",
    "    print('Printing model: '+current_design)\n",
    "    completed_models.append(current_design)\n",
    "#Display all the completed models\n",
    "print(\"\\nCompleted designs are:\")\n",
    "for models in completed_models:\n",
    "    print(models)"
   ]
  },
  {
   "cell_type": "code",
   "execution_count": 13,
   "metadata": {},
   "outputs": [
    {
     "name": "stdout",
     "output_type": "stream",
     "text": [
      "Printing model: dodecahedron\n",
      "Printing model: robot pendant\n",
      "Printing model: iphone case\n",
      "\n",
      "Completed designs are:\n",
      "dodecahedron\n",
      "robot pendant\n",
      "iphone case\n"
     ]
    }
   ],
   "source": [
    "def print_models(unprinted_designs,completed_models):\n",
    "    \n",
    "    while unprinted_designs:\n",
    "        current_design=unprinted_designs.pop()\n",
    "        print('Printing model: '+current_design)\n",
    "        completed_models.append(current_design)\n",
    "        \n",
    "def show_completed_models(completed_models):\n",
    "    print(\"\\nCompleted designs are:\")\n",
    "    for models in completed_models:\n",
    "        print(models)\n",
    "unprinted_designs=['iphone case','robot pendant','dodecahedron']\n",
    "completed_models=[]\n",
    "print_models(unprinted_designs,completed_models)\n",
    "show_completed_models(completed_models)\n"
   ]
  },
  {
   "cell_type": "markdown",
   "metadata": {},
   "source": [
    "#### Preventing a Function from Modifying a List"
   ]
  },
  {
   "cell_type": "code",
   "execution_count": 16,
   "metadata": {},
   "outputs": [
    {
     "name": "stdout",
     "output_type": "stream",
     "text": [
      "Printing model: dodecahedron\n",
      "Printing model: robot pendant\n",
      "Printing model: iphone case\n",
      "\n",
      "Completed designs are:\n",
      "dodecahedron\n",
      "robot pendant\n",
      "iphone case\n",
      "['iphone case', 'robot pendant', 'dodecahedron']\n",
      "['dodecahedron', 'robot pendant', 'iphone case']\n"
     ]
    }
   ],
   "source": [
    "#function_name(list_name[:]) #we can use slicing to keep the original list\n",
    "def print_models(unprinted_designs,completed_models):\n",
    "    \n",
    "    while unprinted_designs:\n",
    "        current_design=unprinted_designs.pop()\n",
    "        print('Printing model: '+current_design)\n",
    "        completed_models.append(current_design)\n",
    "        \n",
    "def show_completed_models(completed_models):\n",
    "    print(\"\\nCompleted designs are:\")\n",
    "    for models in completed_models:\n",
    "        print(models)\n",
    "unprinted_designs=['iphone case','robot pendant','dodecahedron']\n",
    "completed_models=[]\n",
    "print_models(unprinted_designs[:],completed_models)\n",
    "show_completed_models(completed_models)\n",
    "print(unprinted_designs)\n",
    "print(completed_models)"
   ]
  },
  {
   "cell_type": "code",
   "execution_count": 19,
   "metadata": {},
   "outputs": [
    {
     "name": "stdout",
     "output_type": "stream",
     "text": [
      "Name of magicians are:\n",
      "Andre\n",
      "Beck\n",
      "Tori\n",
      "Cat\n",
      "Robbie\n"
     ]
    }
   ],
   "source": [
    "#8.9 magicians\n",
    "def show_magicians(magicians):\n",
    "    print('Name of magicians are:')\n",
    "    for magician in magicians:\n",
    "        print(magician.title())\n",
    "magician_names=['Andre','Beck','Tori','cat','robbie']\n",
    "show_magicians(magician_names)"
   ]
  },
  {
   "cell_type": "code",
   "execution_count": 34,
   "metadata": {},
   "outputs": [
    {
     "name": "stdout",
     "output_type": "stream",
     "text": [
      "Name of magicians are:\n",
      "The Great Robbie\n",
      "The Great Cat\n",
      "The Great Tori\n",
      "The Great Beck\n",
      "The Great Andre\n"
     ]
    }
   ],
   "source": [
    "#8.10 Greeting Magicians\n",
    "def show_magicians(magicians):\n",
    "    print('Name of magicians are:')\n",
    "    for magician in magicians:\n",
    "        print(magician.title())\n",
    "        \n",
    "def make_greet(magicians):\n",
    "    GreatMagicians=[]\n",
    "    while magicians:\n",
    "        magician=magicians.pop()\n",
    "        great_magician='The Great '+ magician\n",
    "        GreatMagicians.append(great_magician)\n",
    "    show_magicians(GreatMagicians)\n",
    "    \n",
    "    \n",
    "magician_names=['Andre','Beck','Tori','cat','robbie']\n",
    "make_greet(magician_names)"
   ]
  },
  {
   "cell_type": "code",
   "execution_count": 36,
   "metadata": {},
   "outputs": [
    {
     "name": "stdout",
     "output_type": "stream",
     "text": [
      "Name of magicians are:\n",
      "The Great Robbie\n",
      "The Great Cat\n",
      "The Great Tori\n",
      "The Great Beck\n",
      "The Great Andre\n",
      "Name of magicians are:\n",
      "Andre\n",
      "Beck\n",
      "Tori\n",
      "Cat\n",
      "Robbie\n"
     ]
    }
   ],
   "source": [
    "#8.11 Unchanged Magicinas\n",
    "def show_magicians(magicians):\n",
    "    print('Name of magicians are:')\n",
    "    for magician in magicians:\n",
    "        print(magician.title())\n",
    "        \n",
    "def make_greet(magicians):\n",
    "    GreatMagicians=[]\n",
    "    while magicians:\n",
    "        magician=magicians.pop()\n",
    "        great_magician='The Great '+ magician\n",
    "        GreatMagicians.append(great_magician)\n",
    "    show_magicians(GreatMagicians)\n",
    "    \n",
    "    \n",
    "magician_names=['Andre','Beck','Tori','cat','robbie']\n",
    "make_greet(magician_names[:])\n",
    "show_magicians(magician_names)"
   ]
  },
  {
   "cell_type": "markdown",
   "metadata": {},
   "source": [
    "### Passing an Arbitrary Number of Arguments"
   ]
  },
  {
   "cell_type": "code",
   "execution_count": 43,
   "metadata": {},
   "outputs": [
    {
     "name": "stdout",
     "output_type": "stream",
     "text": [
      "('mushroom',)\n",
      "('mushroom', 'extra cheese', 'green pepper')\n"
     ]
    }
   ],
   "source": [
    "#pizza.py\n",
    "def make_pizza(*toppings):#* says python to create empty tuple called toppings and packs whatever value it receives\n",
    "    '''Print the list of toppings that have been requested'''\n",
    "    print(toppings)\n",
    "make_pizza('mushroom')\n",
    "make_pizza('mushroom','extra cheese','green pepper')"
   ]
  },
  {
   "cell_type": "code",
   "execution_count": 45,
   "metadata": {},
   "outputs": [
    {
     "name": "stdout",
     "output_type": "stream",
     "text": [
      "\n",
      "Making pizza with the following toppings:\n",
      "- mushroom\n",
      "\n",
      "Making pizza with the following toppings:\n",
      "- mushroom\n",
      "- extra cheese\n",
      "- green pepper\n"
     ]
    }
   ],
   "source": [
    "def make_pizza(*toppings):\n",
    "    print('\\nMaking pizza with the following toppings:')\n",
    "    for topping in toppings:\n",
    "        print('- '+topping)\n",
    "make_pizza('mushroom')\n",
    "make_pizza('mushroom','extra cheese','green pepper')"
   ]
  },
  {
   "cell_type": "markdown",
   "metadata": {},
   "source": [
    "Mixing Positional and Arbitrary Arguments.\n",
    "\n",
    "->the parameter that accepts an arbitrary number of arguments must be placed last in the function definition.\n",
    "\n",
    "->Python matches positional and keyword arguments first and then collects any remaining arguments in the final parameter."
   ]
  },
  {
   "cell_type": "code",
   "execution_count": 51,
   "metadata": {},
   "outputs": [
    {
     "name": "stdout",
     "output_type": "stream",
     "text": [
      "\n",
      "Making -12 inch pizza with the following toppings:\n",
      "-mushroom\n",
      "-extra cheese\n",
      "\n",
      "Making -16 inch pizza with the following toppings:\n",
      "-mushroom\n",
      "-extra cheese\n",
      "-green pepper\n"
     ]
    }
   ],
   "source": [
    "def make_pizza(size,*toppings):\n",
    "    print('\\nMaking -'+str(size)+' inch pizza with the following toppings:')\n",
    "    for topping in toppings:\n",
    "        print('-'+topping)\n",
    "make_pizza(12,'mushroom','extra cheese')\n",
    "make_pizza(16,'mushroom','extra cheese','green pepper')"
   ]
  },
  {
   "cell_type": "markdown",
   "metadata": {},
   "source": [
    "Using Arbitrary Keyword Arguments"
   ]
  },
  {
   "cell_type": "code",
   "execution_count": 52,
   "metadata": {},
   "outputs": [
    {
     "name": "stdout",
     "output_type": "stream",
     "text": [
      "{'first_name': 'albert', 'last name': 'einstein', 'location': 'princeton', 'field': 'physics'}\n"
     ]
    }
   ],
   "source": [
    "#user_profile.py\n",
    "def build_profile(first,last,**user_info): #** creates empty dictionary y called user_info and pack whatever name-value pairs it receives into this dictionary\n",
    "    \"\"\"Build a dictionary containing everything we know about a user.\"\"\"\n",
    "    profile={}\n",
    "    profile['first_name']=first\n",
    "    profile['last name']=last\n",
    "    for key,value in user_info.items():\n",
    "        profile[key]=value\n",
    "    return profile\n",
    "\n",
    "user_profile=build_profile('albert','einstein',location='princeton',field='physics')\n",
    "print(user_profile)"
   ]
  },
  {
   "cell_type": "code",
   "execution_count": 54,
   "metadata": {},
   "outputs": [
    {
     "name": "stdout",
     "output_type": "stream",
     "text": [
      "items in sandwiches are:\n",
      "('chicken',)\n",
      "items in sandwiches are:\n",
      "('bacon', 'chicken', 'green pepper')\n",
      "items in sandwiches are:\n",
      "('cheese', 'tomato', 'green pepper', 'bacon')\n"
     ]
    }
   ],
   "source": [
    "#8.12 sandwiches\n",
    "def sandwiches(*items):\n",
    "    print(\"items in sandwiches are:\")\n",
    "    print(items)\n",
    "sandwiches('chicken')\n",
    "sandwiches('bacon','chicken','green pepper')\n",
    "sandwiches('cheese','tomato','green pepper','bacon')"
   ]
  },
  {
   "cell_type": "code",
   "execution_count": 55,
   "metadata": {},
   "outputs": [
    {
     "name": "stdout",
     "output_type": "stream",
     "text": [
      "{'first_name': 'hishan', 'last name': 'shrestha', 'location': 'teku', 'hobby': 'gaming', 'age': 21}\n"
     ]
    }
   ],
   "source": [
    "#8.13 user profile\n",
    "def build_profile(first,last,**user_info): #** creates empty dictionary y called user_info and pack whatever name-value pairs it receives into this dictionary\n",
    "    \"\"\"Build a dictionary containing everything we know about a user.\"\"\"\n",
    "    profile={}\n",
    "    profile['first_name']=first\n",
    "    profile['last name']=last\n",
    "    for key,value in user_info.items():\n",
    "        profile[key]=value\n",
    "    return profile\n",
    "\n",
    "user_profile=build_profile('hishan','shrestha',location='teku',hobby='gaming',age=21)\n",
    "print(user_profile)"
   ]
  },
  {
   "cell_type": "code",
   "execution_count": 67,
   "metadata": {},
   "outputs": [
    {
     "name": "stdout",
     "output_type": "stream",
     "text": [
      "{'Manufacturer': 'subaru', 'Model_name': 'outback', 'color': 'blue', 'tow_package': True}\n",
      "{'Manufacturer': 'Toyota', 'Model_name': 'Race', 'color': 'black'}\n"
     ]
    }
   ],
   "source": [
    "#8.16 Cars\n",
    "def car_detail(manufacuturer,model_name,**features):\n",
    "    car_profile={}\n",
    "    car_profile['Manufacturer']=manufacuturer\n",
    "    car_profile['Model_name']=model_name\n",
    "    for key,value in features.items():\n",
    "        car_profile[key]=value\n",
    "    return car_profile\n",
    "car1=car_detail('subaru', 'outback', color='blue', tow_package=True)\n",
    "print(car1)\n",
    "car2=car_detail('Toyota','Race',color='black')\n",
    "print(car2)"
   ]
  },
  {
   "cell_type": "markdown",
   "metadata": {},
   "source": [
    "## Storing Functions in Modules"
   ]
  },
  {
   "cell_type": "code",
   "execution_count": 75,
   "metadata": {},
   "outputs": [
    {
     "name": "stdout",
     "output_type": "stream",
     "text": [
      "\\nMaking -16 inch pizza with the following toppings:\n",
      "-pepperoni\n",
      "\\nMaking -12 inch pizza with the following toppings:\n",
      "-mushroom\n",
      "-green peppers\n",
      "-extra cheese\n"
     ]
    }
   ],
   "source": [
    "#Importing an Entire module\n",
    "import pizza\n",
    "pizza.make_pizza(16,'pepperoni')\n",
    "pizza.make_pizza(12,'mushroom','green peppers','extra cheese')"
   ]
  },
  {
   "cell_type": "code",
   "execution_count": 77,
   "metadata": {},
   "outputs": [
    {
     "name": "stdout",
     "output_type": "stream",
     "text": [
      "\\nMaking -16 inch pizza with the following toppings:\n",
      "-pepperoni\n",
      "\\nMaking -12 inch pizza with the following toppings:\n",
      "-mushroom\n",
      "-green peppers\n",
      "-extra cheese\n"
     ]
    }
   ],
   "source": [
    "#Using as to give a function as Alias\n",
    "from pizza import make_pizza as mp\n",
    "mp(16,'pepperoni')\n",
    "mp(12,'mushroom','green peppers','extra cheese')"
   ]
  },
  {
   "cell_type": "code",
   "execution_count": 78,
   "metadata": {},
   "outputs": [
    {
     "name": "stdout",
     "output_type": "stream",
     "text": [
      "\\nMaking -12 inch pizza with the following toppings:\n",
      "-mushroom\n",
      "-extra cheese\n",
      "\\nMaking -16 inch pizza with the following toppings:\n",
      "-mushroom\n",
      "-extra cheese\n",
      "-green pepper\n"
     ]
    }
   ],
   "source": [
    "#importing all functions in a module\n",
    "from pizza import *\n",
    "make_pizza(12,'mushroom','extra cheese')\n",
    "make_pizza(16,'mushroom','extra cheese','green pepper')"
   ]
  },
  {
   "cell_type": "code",
   "execution_count": 85,
   "metadata": {},
   "outputs": [
    {
     "data": {
      "text/plain": [
       "{'first_name': 'albert',\n",
       " 'last name': 'einstein',\n",
       " 'location': 'princeton',\n",
       " 'field': 'physics'}"
      ]
     },
     "execution_count": 85,
     "metadata": {},
     "output_type": "execute_result"
    }
   ],
   "source": [
    "#8.15\n",
    "#using build_profile.py\n",
    "import build_profile\n",
    "build_profile.build_profile('albert','einstein',location='princeton',field='physics')"
   ]
  },
  {
   "cell_type": "code",
   "execution_count": 86,
   "metadata": {},
   "outputs": [
    {
     "data": {
      "text/plain": [
       "{'first_name': 'albert',\n",
       " 'last name': 'einstein',\n",
       " 'location': 'princeton',\n",
       " 'field': 'physics'}"
      ]
     },
     "execution_count": 86,
     "metadata": {},
     "output_type": "execute_result"
    }
   ],
   "source": [
    "from build_profile import build_profile\n",
    "build_profile('albert','einstein',location='princeton',field='physics')"
   ]
  },
  {
   "cell_type": "code",
   "execution_count": 87,
   "metadata": {},
   "outputs": [
    {
     "data": {
      "text/plain": [
       "{'first_name': 'albert',\n",
       " 'last name': 'einstein',\n",
       " 'location': 'princeton',\n",
       " 'field': 'physics'}"
      ]
     },
     "execution_count": 87,
     "metadata": {},
     "output_type": "execute_result"
    }
   ],
   "source": [
    "from build_profile import build_profile as bp\n",
    "bp('albert','einstein',location='princeton',field='physics')"
   ]
  },
  {
   "cell_type": "code",
   "execution_count": 89,
   "metadata": {},
   "outputs": [
    {
     "data": {
      "text/plain": [
       "{'first_name': 'albert',\n",
       " 'last name': 'einstein',\n",
       " 'location': 'princeton',\n",
       " 'field': 'physics'}"
      ]
     },
     "execution_count": 89,
     "metadata": {},
     "output_type": "execute_result"
    }
   ],
   "source": [
    "import build_profile as bp\n",
    "bp.build_profile('albert','einstein',location='princeton',field='physics')"
   ]
  },
  {
   "cell_type": "code",
   "execution_count": 90,
   "metadata": {},
   "outputs": [
    {
     "data": {
      "text/plain": [
       "{'first_name': 'albert',\n",
       " 'last name': 'einstein',\n",
       " 'location': 'princeton',\n",
       " 'field': 'physics'}"
      ]
     },
     "execution_count": 90,
     "metadata": {},
     "output_type": "execute_result"
    }
   ],
   "source": [
    "from build_profile import *\n",
    "build_profile('albert','einstein',location='princeton',field='physics')"
   ]
  },
  {
   "cell_type": "code",
   "execution_count": null,
   "metadata": {},
   "outputs": [],
   "source": []
  }
 ],
 "metadata": {
  "kernelspec": {
   "display_name": "Python 3",
   "language": "python",
   "name": "python3"
  },
  "language_info": {
   "codemirror_mode": {
    "name": "ipython",
    "version": 3
   },
   "file_extension": ".py",
   "mimetype": "text/x-python",
   "name": "python",
   "nbconvert_exporter": "python",
   "pygments_lexer": "ipython3",
   "version": "3.7.6"
  }
 },
 "nbformat": 4,
 "nbformat_minor": 4
}
